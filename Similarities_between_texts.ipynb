{
  "nbformat": 4,
  "nbformat_minor": 0,
  "metadata": {
    "colab": {
      "provenance": []
    },
    "kernelspec": {
      "name": "python3",
      "display_name": "Python 3"
    },
    "language_info": {
      "name": "python"
    }
  },
  "cells": [
    {
      "cell_type": "code",
      "source": [
        "text1 = \"The astronaut prepared for the mission with intense training.\"\n",
        "text2 = \"Before flying to space, the cosmonaut trained rigorously.\""
      ],
      "metadata": {
        "id": "_uGlXifD698D"
      },
      "execution_count": 2,
      "outputs": []
    },
    {
      "cell_type": "code",
      "source": [
        "from sklearn.feature_extraction.text import TfidfVectorizer\n",
        "from sklearn.metrics.pairwise import cosine_similarity\n",
        "from sentence_transformers import SentenceTransformer, util\n",
        "import numpy as np"
      ],
      "metadata": {
        "id": "rf_8r9jv7Tpc"
      },
      "execution_count": 3,
      "outputs": []
    },
    {
      "cell_type": "code",
      "source": [
        "# Textes à comparer\n",
        "text1 = \"The astronaut prepared for the mission with intense training.\"\n",
        "text2 = \"Before flying to space, the cosmonaut trained rigorously.\""
      ],
      "metadata": {
        "id": "UlRuu48e7WVz"
      },
      "execution_count": 4,
      "outputs": []
    },
    {
      "cell_type": "code",
      "source": [
        "# 1. Cosine Similarity (TF-IDF)\n",
        "vectorizer = TfidfVectorizer()\n",
        "tfidf_matrix = vectorizer.fit_transform([text1, text2])\n",
        "cos_sim = cosine_similarity(tfidf_matrix[0:1], tfidf_matrix[1:2])[0][0]"
      ],
      "metadata": {
        "id": "6zhgv2wv7YJy"
      },
      "execution_count": 8,
      "outputs": []
    },
    {
      "cell_type": "code",
      "source": [
        "# 2. Jaccard Similarity\n",
        "def jaccard_similarity(t1, t2):\n",
        "    set1, set2 = set(t1.lower().split()), set(t2.lower().split())\n",
        "    return len(set1 & set2) / len(set1 | set2)\n",
        "\n",
        "jaccard_sim = jaccard_similarity(text1, text2)"
      ],
      "metadata": {
        "id": "D-M3z0e27Zzr"
      },
      "execution_count": 9,
      "outputs": []
    },
    {
      "cell_type": "code",
      "source": [
        "# 3. BERT Semantic Similarity\n",
        "model = SentenceTransformer('all-MiniLM-L6-v2')\n",
        "embeddings = model.encode([text1, text2], convert_to_tensor=True)\n",
        "bert_sim = util.cos_sim(embeddings[0], embeddings[1]).item()"
      ],
      "metadata": {
        "id": "ibaIAPOC7bqh"
      },
      "execution_count": 10,
      "outputs": []
    },
    {
      "cell_type": "code",
      "source": [
        "# Résultats\n",
        "print(f\"Cosine Similarity:  {cos_sim:.4f}\")\n",
        "print(f\"Jaccard Similarity: {jaccard_sim:.4f}\")\n",
        "print(f\"BERT Similarity:    {bert_sim:.4f}\")"
      ],
      "metadata": {
        "colab": {
          "base_uri": "https://localhost:8080/"
        },
        "id": "ZNuWlqvU7kJD",
        "outputId": "a1e4293b-f10a-47b4-aed3-d53f8a3264dc"
      },
      "execution_count": 11,
      "outputs": [
        {
          "output_type": "stream",
          "name": "stdout",
          "text": [
            "Cosine Similarity:  0.1230\n",
            "Jaccard Similarity: 0.0667\n",
            "BERT Similarity:    0.6187\n"
          ]
        }
      ]
    },
    {
      "cell_type": "code",
      "source": [],
      "metadata": {
        "id": "CBI5vAKR7oyq"
      },
      "execution_count": null,
      "outputs": []
    }
  ]
}